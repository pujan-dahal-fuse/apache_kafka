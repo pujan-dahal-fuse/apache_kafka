{
 "cells": [
  {
   "cell_type": "markdown",
   "id": "3688563d",
   "metadata": {},
   "source": [
    "## Load modules and read JSON"
   ]
  },
  {
   "cell_type": "code",
   "execution_count": 1,
   "id": "4e1945da",
   "metadata": {},
   "outputs": [
    {
     "name": "stdout",
     "output_type": "stream",
     "text": [
      "22/11/18 09:06:23 WARN Utils: Your hostname, tars resolves to a loopback address: 127.0.1.1; using 192.168.1.66 instead (on interface wlan0)\n",
      "22/11/18 09:06:23 WARN Utils: Set SPARK_LOCAL_IP if you need to bind to another address\n"
     ]
    },
    {
     "name": "stderr",
     "output_type": "stream",
     "text": [
      "Setting default log level to \"WARN\".\n",
      "To adjust logging level use sc.setLogLevel(newLevel). For SparkR, use setLogLevel(newLevel).\n"
     ]
    },
    {
     "name": "stdout",
     "output_type": "stream",
     "text": [
      "22/11/18 09:06:24 WARN NativeCodeLoader: Unable to load native-hadoop library for your platform... using builtin-java classes where applicable\n"
     ]
    }
   ],
   "source": [
    "# load modules\n",
    "from pyspark.sql import SparkSession\n",
    "\n",
    "spark = SparkSession.builder.appName('kafka_project').getOrCreate()"
   ]
  },
  {
   "cell_type": "code",
   "execution_count": 2,
   "id": "a1ae0e9b",
   "metadata": {
    "scrolled": true
   },
   "outputs": [
    {
     "name": "stdout",
     "output_type": "stream",
     "text": [
      "root\n",
      " |-- laureates: array (nullable = true)\n",
      " |    |-- element: struct (containsNull = true)\n",
      " |    |    |-- born: string (nullable = true)\n",
      " |    |    |-- bornCity: string (nullable = true)\n",
      " |    |    |-- bornCountry: string (nullable = true)\n",
      " |    |    |-- bornCountryCode: string (nullable = true)\n",
      " |    |    |-- died: string (nullable = true)\n",
      " |    |    |-- diedCity: string (nullable = true)\n",
      " |    |    |-- diedCountry: string (nullable = true)\n",
      " |    |    |-- diedCountryCode: string (nullable = true)\n",
      " |    |    |-- firstname: string (nullable = true)\n",
      " |    |    |-- gender: string (nullable = true)\n",
      " |    |    |-- id: string (nullable = true)\n",
      " |    |    |-- prizes: array (nullable = true)\n",
      " |    |    |    |-- element: struct (containsNull = true)\n",
      " |    |    |    |    |-- affiliations: array (nullable = true)\n",
      " |    |    |    |    |    |-- element: string (containsNull = true)\n",
      " |    |    |    |    |-- category: string (nullable = true)\n",
      " |    |    |    |    |-- motivation: string (nullable = true)\n",
      " |    |    |    |    |-- overallMotivation: string (nullable = true)\n",
      " |    |    |    |    |-- share: string (nullable = true)\n",
      " |    |    |    |    |-- year: string (nullable = true)\n",
      " |    |    |-- surname: string (nullable = true)\n",
      "\n",
      "+--------------------+\n",
      "|           laureates|\n",
      "+--------------------+\n",
      "|[{1845-03-27, Len...|\n",
      "+--------------------+\n",
      "\n"
     ]
    }
   ],
   "source": [
    "# read json file\n",
    "df_laureates = spark.read\\\n",
    "    .format('json')\\\n",
    "    .option('inferSchema', 'true')\\\n",
    "    .option('multiLine', 'true')\\\n",
    "    .load('data/laureates_data.json')\n",
    "\n",
    "df_laureates.printSchema()\n",
    "\n",
    "df_laureates.show()"
   ]
  },
  {
   "cell_type": "markdown",
   "id": "19f7ee81",
   "metadata": {},
   "source": [
    "## Flatten the data by exploding arrays and taking elements of nested struct"
   ]
  },
  {
   "cell_type": "code",
   "execution_count": 3,
   "id": "9791d551",
   "metadata": {},
   "outputs": [],
   "source": [
    "from pyspark.sql import functions as F\n",
    "\n",
    "# explode the laureates array to get the nobel_laureates records\n",
    "df_laureates = df_laureates.withColumn('laureates', F.explode('laureates')).select('laureates')"
   ]
  },
  {
   "cell_type": "code",
   "execution_count": 4,
   "id": "ba407c31",
   "metadata": {},
   "outputs": [
    {
     "name": "stdout",
     "output_type": "stream",
     "text": [
      "+--------------------+\n",
      "|           laureates|\n",
      "+--------------------+\n",
      "|{1845-03-27, Lenn...|\n",
      "|{1853-07-18, Arnh...|\n",
      "|{1865-05-25, Zonn...|\n",
      "|{1852-12-15, Pari...|\n",
      "|{1859-05-15, Pari...|\n",
      "|{1867-11-07, Wars...|\n",
      "|{1842-11-12, Lang...|\n",
      "|{1862-06-07, Pres...|\n",
      "|{1856-12-18, Chee...|\n",
      "|{1852-12-19, Stre...|\n",
      "|{1845-08-16, Holl...|\n",
      "|{1874-04-25, Bolo...|\n",
      "|{1850-06-06, Fuld...|\n",
      "|{1837-11-23, Leid...|\n",
      "|{1864-01-13, Gaff...|\n",
      "|{1869-11-30, Sten...|\n",
      "|{1853-09-21, Gron...|\n",
      "|{1879-10-09, Pfaf...|\n",
      "|{1862-07-02, Wigt...|\n",
      "|{1890-03-31, Adel...|\n",
      "+--------------------+\n",
      "only showing top 20 rows\n",
      "\n"
     ]
    }
   ],
   "source": [
    "df_laureates.show()"
   ]
  },
  {
   "cell_type": "code",
   "execution_count": 5,
   "id": "a20118da",
   "metadata": {},
   "outputs": [
    {
     "name": "stdout",
     "output_type": "stream",
     "text": [
      "root\n",
      " |-- laureates: struct (nullable = true)\n",
      " |    |-- born: string (nullable = true)\n",
      " |    |-- bornCity: string (nullable = true)\n",
      " |    |-- bornCountry: string (nullable = true)\n",
      " |    |-- bornCountryCode: string (nullable = true)\n",
      " |    |-- died: string (nullable = true)\n",
      " |    |-- diedCity: string (nullable = true)\n",
      " |    |-- diedCountry: string (nullable = true)\n",
      " |    |-- diedCountryCode: string (nullable = true)\n",
      " |    |-- firstname: string (nullable = true)\n",
      " |    |-- gender: string (nullable = true)\n",
      " |    |-- id: string (nullable = true)\n",
      " |    |-- prizes: array (nullable = true)\n",
      " |    |    |-- element: struct (containsNull = true)\n",
      " |    |    |    |-- affiliations: array (nullable = true)\n",
      " |    |    |    |    |-- element: string (containsNull = true)\n",
      " |    |    |    |-- category: string (nullable = true)\n",
      " |    |    |    |-- motivation: string (nullable = true)\n",
      " |    |    |    |-- overallMotivation: string (nullable = true)\n",
      " |    |    |    |-- share: string (nullable = true)\n",
      " |    |    |    |-- year: string (nullable = true)\n",
      " |    |-- surname: string (nullable = true)\n",
      "\n"
     ]
    }
   ],
   "source": [
    "df_laureates.printSchema()"
   ]
  },
  {
   "cell_type": "code",
   "execution_count": 6,
   "id": "4173cc18",
   "metadata": {},
   "outputs": [],
   "source": [
    "# get the columns within nested struct\n",
    "df_laureates = df_laureates\\\n",
    "    .withColumn('id', F.col('laureates').getItem('id').cast('int'))\\\n",
    "    .withColumn('born', F.col('laureates').getItem('born'))\\\n",
    "    .withColumn('bornCity', F.col('laureates').getItem('bornCity'))\\\n",
    "    .withColumn('bornCountry', F.col('laureates').getItem('bornCountry'))\\\n",
    "    .withColumn('bornCountryCode', F.col('laureates').getItem('bornCountryCode'))\\\n",
    "    .withColumn('died', F.col('laureates').getItem('died'))\\\n",
    "    .withColumn('diedCity', F.col('laureates').getItem('diedCity'))\\\n",
    "    .withColumn('diedCountry', F.col('laureates').getItem('diedCountry'))\\\n",
    "    .withColumn('diedCountryCode', F.col('laureates').getItem('diedCountryCode'))\\\n",
    "    .withColumn('firstname', F.col('laureates').getItem('firstname'))\\\n",
    "    .withColumn('surname', F.col('laureates').getItem('surname'))\\\n",
    "    .withColumn('gender', F.col('laureates').getItem('gender'))\\\n",
    "    .withColumn('prizes', F.col('laureates').getItem('prizes'))\\\n",
    "    .select('id', 'firstname', 'surname', 'gender', 'born', 'bornCity', 'bornCountry', 'bornCountryCode', 'died', 'diedCity', 'diedCountry', 'diedCountryCode', 'prizes')"
   ]
  },
  {
   "cell_type": "code",
   "execution_count": 7,
   "id": "1f4d832e",
   "metadata": {},
   "outputs": [
    {
     "name": "stdout",
     "output_type": "stream",
     "text": [
      "root\n",
      " |-- id: integer (nullable = true)\n",
      " |-- firstname: string (nullable = true)\n",
      " |-- surname: string (nullable = true)\n",
      " |-- gender: string (nullable = true)\n",
      " |-- born: string (nullable = true)\n",
      " |-- bornCity: string (nullable = true)\n",
      " |-- bornCountry: string (nullable = true)\n",
      " |-- bornCountryCode: string (nullable = true)\n",
      " |-- died: string (nullable = true)\n",
      " |-- diedCity: string (nullable = true)\n",
      " |-- diedCountry: string (nullable = true)\n",
      " |-- diedCountryCode: string (nullable = true)\n",
      " |-- prizes: array (nullable = true)\n",
      " |    |-- element: struct (containsNull = true)\n",
      " |    |    |-- affiliations: array (nullable = true)\n",
      " |    |    |    |-- element: string (containsNull = true)\n",
      " |    |    |-- category: string (nullable = true)\n",
      " |    |    |-- motivation: string (nullable = true)\n",
      " |    |    |-- overallMotivation: string (nullable = true)\n",
      " |    |    |-- share: string (nullable = true)\n",
      " |    |    |-- year: string (nullable = true)\n",
      "\n"
     ]
    }
   ],
   "source": [
    "df_laureates.printSchema()"
   ]
  },
  {
   "cell_type": "code",
   "execution_count": 8,
   "id": "9991d8c1",
   "metadata": {},
   "outputs": [
    {
     "name": "stdout",
     "output_type": "stream",
     "text": [
      "+---+----------------+----------------+------+----------+--------------------+--------------------+---------------+----------+------------+--------------------+---------------+--------------------+--------------+--------------------+-----------------------+-----------+----------+\n",
      "| id|       firstname|         surname|gender|      born|            bornCity|         bornCountry|bornCountryCode|      died|    diedCity|         diedCountry|diedCountryCode|   prize_affiliation|prize_category|    prize_motivation|prize_overallMotivation|prize_share|prize_year|\n",
      "+---+----------------+----------------+------+----------+--------------------+--------------------+---------------+----------+------------+--------------------+---------------+--------------------+--------------+--------------------+-----------------------+-----------+----------+\n",
      "|  1|  Wilhelm Conrad|         Röntgen|  male|1845-03-27|Lennep (now Remsc...|Prussia (now Germ...|             DE|1923-02-10|      Munich|             Germany|             DE|{\"name\":\"Munich U...|       physics|\"in recognition o...|                   null|          1|      1901|\n",
      "|  2|      Hendrik A.|         Lorentz|  male|1853-07-18|              Arnhem|     the Netherlands|             NL|1928-02-04|        null|     the Netherlands|             NL|{\"name\":\"Leiden U...|       physics|\"in recognition o...|                   null|          2|      1902|\n",
      "|  3|          Pieter|          Zeeman|  male|1865-05-25|          Zonnemaire|     the Netherlands|             NL|1943-10-09|   Amsterdam|     the Netherlands|             NL|{\"name\":\"Amsterda...|       physics|\"in recognition o...|                   null|          2|      1902|\n",
      "|  4|           Henri|       Becquerel|  male|1852-12-15|               Paris|              France|             FR|1908-08-25|        null|              France|             FR|{\"name\":\"École Po...|       physics|\"in recognition o...|                   null|          2|      1903|\n",
      "|  5|          Pierre|           Curie|  male|1859-05-15|               Paris|              France|             FR|1906-04-19|       Paris|              France|             FR|{\"name\":\"École mu...|       physics|\"in recognition o...|                   null|          4|      1903|\n",
      "|  6|           Marie|           Curie|female|1867-11-07|              Warsaw|Russian Empire (n...|             PL|1934-07-04|  Sallanches|              France|             FR|                  []|       physics|\"in recognition o...|                   null|          4|      1903|\n",
      "|  6|           Marie|           Curie|female|1867-11-07|              Warsaw|Russian Empire (n...|             PL|1934-07-04|  Sallanches|              France|             FR|{\"name\":\"Sorbonne...|     chemistry|\"in recognition o...|                   null|          1|      1911|\n",
      "|  8|            Lord|        Rayleigh|  male|1842-11-12|Langford Grove, M...|      United Kingdom|             GB|1919-06-30|        null|      United Kingdom|             GB|{\"name\":\"Royal In...|       physics|\"for his investig...|                   null|          1|      1904|\n",
      "|  9|         Philipp|          Lenard|  male|1862-06-07|Pressburg (now Br...|Hungary (now Slov...|             SK|1947-05-20|Messelhausen|             Germany|             DE|{\"name\":\"Kiel Uni...|       physics|\"for his work on ...|                   null|          1|      1905|\n",
      "| 10|            J.J.|         Thomson|  male|1856-12-18|       Cheetham Hill|      United Kingdom|             GB|1940-08-30|   Cambridge|      United Kingdom|             GB|{\"name\":\"Universi...|       physics|\"in recognition o...|                   null|          1|      1906|\n",
      "| 11|       Albert A.|       Michelson|  male|1852-12-19|Strelno (now Strz...|Prussia (now Poland)|             PL|1931-05-09|Pasadena, CA|                 USA|             US|{\"name\":\"Universi...|       physics|\"for his optical ...|                   null|          1|      1907|\n",
      "| 12|         Gabriel|        Lippmann|  male|1845-08-16|           Hollerich|          Luxembourg|             LU|1921-07-13|        null|                null|           null|{\"name\":\"Sorbonne...|       physics|\"for his method o...|                   null|          1|      1908|\n",
      "| 13|       Guglielmo|         Marconi|  male|1874-04-25|             Bologna|               Italy|             IT|1937-07-20|        Rome|               Italy|             IT|{\"name\":\"Marconi ...|       physics|\"in recognition o...|                   null|          2|      1909|\n",
      "| 14|       Ferdinand|           Braun|  male|1850-06-06|               Fulda|Hesse-Kassel (now...|             DE|1918-04-20|Brooklyn, NY|                 USA|             US|{\"name\":\"Strasbou...|       physics|\"in recognition o...|                   null|          2|      1909|\n",
      "| 15|Johannes Diderik|   van der Waals|  male|1837-11-23|              Leiden|     the Netherlands|             NL|1923-03-08|   Amsterdam|     the Netherlands|             NL|{\"name\":\"Amsterda...|       physics|\"for his work on ...|                   null|          1|      1910|\n",
      "| 16|         Wilhelm|            Wien|  male|1864-01-13|Gaffken (now Paru...|Prussia (now Russia)|             RU|1928-08-30|      Munich|             Germany|             DE|{\"name\":\"Würzburg...|       physics|\"for his discover...|                   null|          1|      1911|\n",
      "| 17|          Gustaf|           Dalén|  male|1869-11-30|           Stenstorp|              Sweden|             SE|1937-12-09|   Stockholm|              Sweden|             SE|{\"name\":\"Swedish ...|       physics|\"for his inventio...|                   null|          1|      1912|\n",
      "| 18|           Heike|Kamerlingh Onnes|  male|1853-09-21|           Groningen|     the Netherlands|             NL|1926-02-21|      Leiden|     the Netherlands|             NL|{\"name\":\"Leiden U...|       physics|\"for his investig...|                   null|          1|      1913|\n",
      "| 19|             Max|        von Laue|  male|1879-10-09|         Pfaffendorf|             Germany|             DE|1960-04-23|      Berlin|West Germany (now...|             DE|{\"name\":\"Frankfur...|       physics|\"for his discover...|                   null|          1|      1914|\n",
      "| 20|         William|           Bragg|  male|1862-07-02|              Wigton|      United Kingdom|             GB|1942-03-12|      London|      United Kingdom|             GB|{\"name\":\"Universi...|       physics|\"for their servic...|                   null|          2|      1915|\n",
      "+---+----------------+----------------+------+----------+--------------------+--------------------+---------------+----------+------------+--------------------+---------------+--------------------+--------------+--------------------+-----------------------+-----------+----------+\n",
      "only showing top 20 rows\n",
      "\n"
     ]
    }
   ],
   "source": [
    "df = df_laureates.withColumn('prizes', F.explode('prizes'))\n",
    "df = df\\\n",
    "    .withColumn('prize_affiliation', F.col('prizes').getItem('affiliations'))\\\n",
    "    .withColumn('prize_category', F.col('prizes').getItem('category'))\\\n",
    "    .withColumn('prize_motivation', F.col('prizes').getItem('motivation'))\\\n",
    "    .withColumn('prize_overallMotivation', F.col('prizes').getItem('overallMotivation'))\\\n",
    "    .withColumn('prize_share', F.col('prizes').getItem('share'))\\\n",
    "    .withColumn('prize_year', F.col('prizes').getItem('year'))\\\n",
    "    .select('id', 'firstname', 'surname', 'gender', 'born', 'bornCity', 'bornCountry', 'bornCountryCode', 'died', 'diedCity', 'diedCountry', 'diedCountryCode', 'prize_affiliation', 'prize_category', 'prize_motivation', 'prize_overallMotivation', 'prize_share', 'prize_year')\n",
    "\n",
    "df = df.withColumn('prize_affiliation', F.explode('prize_affiliation'))\n",
    "df.show()"
   ]
  },
  {
   "cell_type": "code",
   "execution_count": 9,
   "id": "f553dcf5",
   "metadata": {},
   "outputs": [
    {
     "name": "stdout",
     "output_type": "stream",
     "text": [
      "root\n",
      " |-- id: integer (nullable = true)\n",
      " |-- firstname: string (nullable = true)\n",
      " |-- surname: string (nullable = true)\n",
      " |-- gender: string (nullable = true)\n",
      " |-- born: string (nullable = true)\n",
      " |-- bornCity: string (nullable = true)\n",
      " |-- bornCountry: string (nullable = true)\n",
      " |-- bornCountryCode: string (nullable = true)\n",
      " |-- died: string (nullable = true)\n",
      " |-- diedCity: string (nullable = true)\n",
      " |-- diedCountry: string (nullable = true)\n",
      " |-- diedCountryCode: string (nullable = true)\n",
      " |-- prize_affiliation: string (nullable = true)\n",
      " |-- prize_category: string (nullable = true)\n",
      " |-- prize_motivation: string (nullable = true)\n",
      " |-- prize_overallMotivation: string (nullable = true)\n",
      " |-- prize_share: string (nullable = true)\n",
      " |-- prize_year: string (nullable = true)\n",
      "\n"
     ]
    }
   ],
   "source": [
    "df.printSchema()\n",
    "# the dataframe is now flattened"
   ]
  },
  {
   "cell_type": "code",
   "execution_count": 10,
   "id": "90bbffe4",
   "metadata": {},
   "outputs": [],
   "source": [
    "# df without prize affiliations\n",
    "\n",
    "df_without_prize_affiliations = df.drop('prize_affiliation')"
   ]
  },
  {
   "cell_type": "code",
   "execution_count": 11,
   "id": "2058870a",
   "metadata": {},
   "outputs": [],
   "source": [
    "from pyspark.sql.types import StructType, StructField, StringType\n",
    "\n",
    "# although affiliation has type string, it is actually a struct\n",
    "# so we need to specify its schema and use the to_json function to convert into struct\n",
    "\n",
    "# sample data\n",
    "df.select('id', 'prize_affiliation').toPandas().iloc[0][1]\n",
    "\n",
    "affiliation_schema = StructType([\n",
    "    StructField(\"name\", StringType(), True),\n",
    "    StructField(\"city\", StringType(), True),\n",
    "    StructField(\"country\", StringType(), True)\n",
    "])\n",
    "\n",
    "df = df.withColumn('prize_affiliation', F.from_json(F.col('prize_affiliation'), affiliation_schema))"
   ]
  },
  {
   "cell_type": "code",
   "execution_count": 12,
   "id": "1b3a0d88",
   "metadata": {},
   "outputs": [
    {
     "name": "stdout",
     "output_type": "stream",
     "text": [
      "root\n",
      " |-- id: integer (nullable = true)\n",
      " |-- firstname: string (nullable = true)\n",
      " |-- surname: string (nullable = true)\n",
      " |-- gender: string (nullable = true)\n",
      " |-- born: string (nullable = true)\n",
      " |-- bornCity: string (nullable = true)\n",
      " |-- bornCountry: string (nullable = true)\n",
      " |-- bornCountryCode: string (nullable = true)\n",
      " |-- died: string (nullable = true)\n",
      " |-- diedCity: string (nullable = true)\n",
      " |-- diedCountry: string (nullable = true)\n",
      " |-- diedCountryCode: string (nullable = true)\n",
      " |-- prize_affiliation: struct (nullable = true)\n",
      " |    |-- name: string (nullable = true)\n",
      " |    |-- city: string (nullable = true)\n",
      " |    |-- country: string (nullable = true)\n",
      " |-- prize_category: string (nullable = true)\n",
      " |-- prize_motivation: string (nullable = true)\n",
      " |-- prize_overallMotivation: string (nullable = true)\n",
      " |-- prize_share: string (nullable = true)\n",
      " |-- prize_year: string (nullable = true)\n",
      "\n"
     ]
    }
   ],
   "source": [
    "df.printSchema()"
   ]
  },
  {
   "cell_type": "code",
   "execution_count": 13,
   "id": "275005ef",
   "metadata": {},
   "outputs": [
    {
     "name": "stdout",
     "output_type": "stream",
     "text": [
      "root\n",
      " |-- id: integer (nullable = true)\n",
      " |-- firstname: string (nullable = true)\n",
      " |-- surname: string (nullable = true)\n",
      " |-- gender: string (nullable = true)\n",
      " |-- born: string (nullable = true)\n",
      " |-- bornCity: string (nullable = true)\n",
      " |-- bornCountry: string (nullable = true)\n",
      " |-- bornCountryCode: string (nullable = true)\n",
      " |-- died: string (nullable = true)\n",
      " |-- diedCity: string (nullable = true)\n",
      " |-- diedCountry: string (nullable = true)\n",
      " |-- diedCountryCode: string (nullable = true)\n",
      " |-- prize_affiliation_name: string (nullable = true)\n",
      " |-- prize_affiliation_city: string (nullable = true)\n",
      " |-- prize_affiliation_country: string (nullable = true)\n",
      " |-- prize_category: string (nullable = true)\n",
      " |-- prize_motivation: string (nullable = true)\n",
      " |-- prize_overallMotivation: string (nullable = true)\n",
      " |-- prize_share: string (nullable = true)\n",
      " |-- prize_year: string (nullable = true)\n",
      "\n"
     ]
    }
   ],
   "source": [
    "# lets break the prize affiliation struct into its fields\n",
    "df = df\\\n",
    "    .withColumn('prize_affiliation_name', F.col('prize_affiliation').getItem('name'))\\\n",
    "    .withColumn('prize_affiliation_city', F.col('prize_affiliation').getItem('city'))\\\n",
    "    .withColumn('prize_affiliation_country', F.col('prize_affiliation').getItem('country'))\\\n",
    "    .select('id', 'firstname', 'surname', 'gender', 'born', 'bornCity', 'bornCountry', 'bornCountryCode', 'died', 'diedCity', 'diedCountry', 'diedCountryCode', 'prize_affiliation_name', 'prize_affiliation_city', 'prize_affiliation_country', 'prize_category', 'prize_motivation', 'prize_overallMotivation', 'prize_share', 'prize_year')\n",
    "\n",
    "df.printSchema()"
   ]
  },
  {
   "cell_type": "code",
   "execution_count": 14,
   "id": "ce47cde1",
   "metadata": {},
   "outputs": [
    {
     "name": "stdout",
     "output_type": "stream",
     "text": [
      "+---+---------+-------+------+----+--------+-----------+---------------+----+--------+-----------+---------------+----------------------+----------------------+-------------------------+--------------+----------------+-----------------------+-----------+----------+\n",
      "| id|firstname|surname|gender|born|bornCity|bornCountry|bornCountryCode|died|diedCity|diedCountry|diedCountryCode|prize_affiliation_name|prize_affiliation_city|prize_affiliation_country|prize_category|prize_motivation|prize_overallMotivation|prize_share|prize_year|\n",
      "+---+---------+-------+------+----+--------+-----------+---------------+----+--------+-----------+---------------+----------------------+----------------------+-------------------------+--------------+----------------+-----------------------+-----------+----------+\n",
      "|  0|        1|     33|     0|   1|      39|         33|             33|   0|     400|        395|            395|                   262|                   279|                      265|             0|               0|                   1040|          0|         0|\n",
      "+---+---------+-------+------+----+--------+-----------+---------------+----+--------+-----------+---------------+----------------------+----------------------+-------------------------+--------------+----------------+-----------------------+-----------+----------+\n",
      "\n"
     ]
    }
   ],
   "source": [
    "# cleaning data\n",
    "# number of nulls in each column\n",
    "\n",
    "df.select([F.count(F.when(F.col(c).isNull(), c)).alias(c) for c in df.columns]).show()"
   ]
  },
  {
   "cell_type": "code",
   "execution_count": 15,
   "id": "00917bde",
   "metadata": {},
   "outputs": [
    {
     "name": "stdout",
     "output_type": "stream",
     "text": [
      "+---+--------------------+----------------------+--------------+--------------------+----------+\n",
      "| id|           firstname|prize_affiliation_name|prize_category|    prize_motivation|prize_year|\n",
      "+---+--------------------+----------------------+--------------+--------------------+----------+\n",
      "|  6|               Marie|                  null|       physics|\"in recognition o...|      1903|\n",
      "|159|       Martinus J.G.|                  null|       physics|\"for elucidating ...|      1999|\n",
      "|278|             Kary B.|                  null|     chemistry|\"for his inventio...|      1993|\n",
      "|462|               Henry|                  null|         peace|\"for his humanita...|      1901|\n",
      "|463|            Frédéric|                  null|         peace|\"for his lifelong...|      1901|\n",
      "|464|                Élie|                  null|         peace|\"for his untiring...|      1902|\n",
      "|465|              Albert|                  null|         peace|\"for his eminentl...|      1902|\n",
      "|466|              Randal|                  null|         peace|\"for his longstan...|      1903|\n",
      "|467|Institute of Inte...|                  null|         peace|\"for its striving...|      1904|\n",
      "|468|              Bertha|                  null|         peace|\"for her audacity...|      1905|\n",
      "|470|            Theodore|                  null|         peace|\"for his role in ...|      1906|\n",
      "|471|     Ernesto Teodoro|                  null|         peace|\"for his work in ...|      1907|\n",
      "|473|         Klas Pontus|                  null|         peace|\"for their long t...|      1908|\n",
      "|474|             Fredrik|                  null|         peace|\"for their long t...|      1908|\n",
      "|475|             Auguste|                  null|         peace|\"for their promin...|      1909|\n",
      "|476|          Paul Henri|                  null|         peace|\"for their promin...|      1909|\n",
      "|477|Permanent Interna...|                  null|         peace|\"for acting as a ...|      1910|\n",
      "|478|              Tobias|                  null|         peace|\"for his role as ...|      1911|\n",
      "|479|              Alfred|                  null|         peace|\"for his effort t...|      1911|\n",
      "|480|               Elihu|                  null|         peace|\"for bringing abo...|      1912|\n",
      "+---+--------------------+----------------------+--------------+--------------------+----------+\n",
      "only showing top 20 rows\n",
      "\n"
     ]
    },
    {
     "data": {
      "text/plain": [
       "1067"
      ]
     },
     "execution_count": 15,
     "metadata": {},
     "output_type": "execute_result"
    }
   ],
   "source": [
    "df.select('id','firstname', 'prize_affiliation_name', 'prize_category', 'prize_motivation', 'prize_year').where(F.col('prize_affiliation_name').isNull()).show()\n",
    "\n",
    "df.count() # 1067\n",
    "df.distinct().count() # 1067\n",
    "df.dropDuplicates().count() # 1067\n",
    "# no duplicate rows"
   ]
  },
  {
   "cell_type": "code",
   "execution_count": 16,
   "id": "3d81ef28",
   "metadata": {},
   "outputs": [
    {
     "data": {
      "text/plain": [
       "1067"
      ]
     },
     "execution_count": 16,
     "metadata": {},
     "output_type": "execute_result"
    }
   ],
   "source": [
    "df_without_prize_affiliations.count() # 1067"
   ]
  },
  {
   "cell_type": "markdown",
   "id": "d40aef72",
   "metadata": {},
   "source": [
    "All rows are unique in our dataframe. Previously, we performed explode() two times, one for prizes and another for affiliations. The prizes array needed to be exploded, but exploding the affiliations column may cause problems. However, the dataframe without prize affiliations also has 1067 rows, it means that each row of prize_affiliation column had only one element in its array.\n",
    "\n",
    "Further, null values exist in columns like death, overallMotivation, which makes sense. So there is no need to drop nulls and further operations can be carried out on this data."
   ]
  },
  {
   "cell_type": "markdown",
   "id": "0fe39487",
   "metadata": {},
   "source": [
    "## Questions"
   ]
  },
  {
   "cell_type": "markdown",
   "id": "e78da78b",
   "metadata": {},
   "source": [
    "### Qn. 1. Find the list of countries which have won the nobel prize and the count of nobel prizes in each category (based on prize affiliation country)"
   ]
  },
  {
   "cell_type": "code",
   "execution_count": 17,
   "id": "a5663126",
   "metadata": {},
   "outputs": [
    {
     "name": "stdout",
     "output_type": "stream",
     "text": [
      "+-------------------------+---------+---------+----------+--------+-----+-------+\n",
      "|prize_affiliation_country|chemistry|economics|literature|medicine|peace|physics|\n",
      "+-------------------------+---------+---------+----------+--------+-----+-------+\n",
      "|                   Russia|     null|     null|      null|       1| null|      2|\n",
      "|                   Sweden|        5|        1|      null|       7| null|      4|\n",
      "|                  Germany|       41|        1|      null|      18| null|     23|\n",
      "|                   France|       11|        2|      null|      10|    1|     19|\n",
      "|                     null|        2|        2|       119|       1|  136|      5|\n",
      "|                Argentina|        1|     null|      null|       1| null|   null|\n",
      "|                  Belgium|        1|     null|      null|       4| null|      1|\n",
      "|                  Finland|        1|     null|      null|    null| null|   null|\n",
      "|                    India|     null|     null|      null|    null| null|      1|\n",
      "|                    China|     null|     null|      null|       1| null|      1|\n",
      "|     Germany (now France)|     null|     null|      null|    null| null|      1|\n",
      "|                    Italy|        1|     null|      null|       3| null|      3|\n",
      "|                   Norway|        1|        2|      null|       2| null|   null|\n",
      "|                    Spain|     null|     null|      null|       1| null|   null|\n",
      "|          the Netherlands|        1|        1|      null|       2| null|      6|\n",
      "|                  Denmark|        2|        1|      null|       4| null|      3|\n",
      "|        USSR (now Russia)|        2|        1|      null|    null| null|      9|\n",
      "|                  Ireland|     null|     null|      null|    null| null|      1|\n",
      "|                   Israel|        4|        1|      null|    null| null|   null|\n",
      "|                      USA|       92|       79|      null|     133|    3|    114|\n",
      "+-------------------------+---------+---------+----------+--------+-----+-------+\n",
      "only showing top 20 rows\n",
      "\n",
      "+--------------------+---------+---------+----------+--------+-----+-------+\n",
      "|             country|chemistry|economics|literature|medicine|peace|physics|\n",
      "+--------------------+---------+---------+----------+--------+-----+-------+\n",
      "|              Russia|        0|        0|         0|       1|    0|      2|\n",
      "|              Sweden|        5|        1|         0|       7|    0|      4|\n",
      "|             Germany|       41|        1|         0|      18|    0|     23|\n",
      "|              France|       11|        2|         0|      10|    1|     19|\n",
      "|No Affiliated Cou...|        2|        2|       119|       1|  136|      5|\n",
      "+--------------------+---------+---------+----------+--------+-----+-------+\n",
      "only showing top 5 rows\n",
      "\n"
     ]
    }
   ],
   "source": [
    "laureates_df = df\n",
    "\n",
    "laureates_df = laureates_df\\\n",
    "    .groupBy('prize_affiliation_country')\\\n",
    "    .pivot('prize_category')\\\n",
    "    .count()\n",
    "\n",
    "laureates_df.show()\n",
    "# null means that the rows the countries don't have a prize in that category, so we replace the nulls by 0\n",
    "\n",
    "laureates_df = laureates_df\\\n",
    "    .fillna(value=\"No Affiliated Country\", subset=['prize_affiliation_country'])\\\n",
    "    .fillna(value=0)\n",
    "\n",
    "laureates_df = laureates_df\\\n",
    "    .withColumnRenamed('prize_affiliation_country', 'country')\n",
    "laureates_df.show(5)\n",
    "\n",
    "country_prize_category_count_df = laureates_df"
   ]
  },
  {
   "cell_type": "markdown",
   "id": "d845c49b",
   "metadata": {},
   "source": [
    "### Qn. 2. Calculate the age at which each laureate received nobel prize, then find the overall average age at the time of receiving nobel prize, number of prizes/percentage by gender and then average age at the time of receiving nobel prize by gender for each country"
   ]
  },
  {
   "cell_type": "code",
   "execution_count": 18,
   "id": "377f8722",
   "metadata": {},
   "outputs": [
    {
     "name": "stdout",
     "output_type": "stream",
     "text": [
      "+---+--------------------+-------+------+----+--------+-----------+---------------+----------+--------+-----------+---------------+----------------------+----------------------+-------------------------+--------------+--------------------+-----------------------+-----------+----------+\n",
      "| id|           firstname|surname|gender|born|bornCity|bornCountry|bornCountryCode|      died|diedCity|diedCountry|diedCountryCode|prize_affiliation_name|prize_affiliation_city|prize_affiliation_country|prize_category|    prize_motivation|prize_overallMotivation|prize_share|prize_year|\n",
      "+---+--------------------+-------+------+----+--------+-----------+---------------+----------+--------+-----------+---------------+----------------------+----------------------+-------------------------+--------------+--------------------+-----------------------+-----------+----------+\n",
      "|925|National Dialogue...|   null|   org|null|    null|       null|           null|0000-00-00|    null|       null|           null|                  null|                  null|                     null|         peace|\"for its decisive...|                   null|          1|      2015|\n",
      "+---+--------------------+-------+------+----+--------+-----------+---------------+----------+--------+-----------+---------------+----------------------+----------------------+-------------------------+--------------+--------------------+-----------------------+-----------+----------+\n",
      "\n",
      "+------+-----+\n",
      "|gender|count|\n",
      "+------+-----+\n",
      "|female|   63|\n",
      "|  male|  974|\n",
      "+------+-----+\n",
      "\n"
     ]
    }
   ],
   "source": [
    "laureates_df = df\n",
    "\n",
    "# there is 1 row that does not have born record\n",
    "laureates_df.where(F.col('born').isNull()).show() # this record is for an organization\n",
    "\n",
    "# further we need to remove all records that belong to an organization\n",
    "laureates_df = laureates_df.where(F.col('gender') != 'org')\n",
    "\n",
    "laureates_df.select('gender').groupBy('gender').count().show(5) #now all organization records are gone"
   ]
  },
  {
   "cell_type": "code",
   "execution_count": 19,
   "id": "348d19f2",
   "metadata": {},
   "outputs": [
    {
     "name": "stdout",
     "output_type": "stream",
     "text": [
      "+---+----------+---------+----------+----------------------+\n",
      "| id|      born|born_year|prize_year|age_at_prize_reception|\n",
      "+---+----------+---------+----------+----------------------+\n",
      "|  1|1845-03-27|     1845|      1901|                    56|\n",
      "|  2|1853-07-18|     1853|      1902|                    49|\n",
      "|  3|1865-05-25|     1865|      1902|                    37|\n",
      "|  4|1852-12-15|     1852|      1903|                    51|\n",
      "|  5|1859-05-15|     1859|      1903|                    44|\n",
      "+---+----------+---------+----------+----------------------+\n",
      "only showing top 5 rows\n",
      "\n"
     ]
    }
   ],
   "source": [
    "from pyspark.sql.types import IntegerType\n",
    "\n",
    "laureates2_df = laureates_df\n",
    "\n",
    "# udf to calculate age at the time of reception of each person\n",
    "def calc_age(birth_year, nobel_prize_reception_year):\n",
    "    \"\"\"calculate the age of nobel_prize_reception for a nobel laureate\"\"\"\n",
    "    return (nobel_prize_reception_year - birth_year)\n",
    "\n",
    "age_udf = F.udf(lambda x, y: calc_age(x, y), IntegerType())\n",
    "laureates2_df = laureates_df\\\n",
    "    .withColumn('born_year', F.substring('born', 0, 4).cast('int'))\\\n",
    "    .withColumn('prize_year', F.col('prize_year').cast('int'))\n",
    "\n",
    "laureates2_df = laureates2_df\\\n",
    "    .withColumn('age_at_prize_reception', age_udf(F.col('born_year'), F.col('prize_year')))\n",
    "\n",
    "laureates2_df.select('id', 'born', 'born_year', 'prize_year', 'age_at_prize_reception').show(5)"
   ]
  },
  {
   "cell_type": "code",
   "execution_count": 20,
   "id": "1836381e",
   "metadata": {},
   "outputs": [
    {
     "name": "stdout",
     "output_type": "stream",
     "text": [
      "+--------------------+------------+------------------+----------+-----------------+------------------+\n",
      "|             country|female_count|    female_avg_age|male_count|     male_avg_age|   country_avg_age|\n",
      "+--------------------+------------+------------------+----------+-----------------+------------------+\n",
      "|              Russia|        null|              null|         3|70.66666666666667| 70.66666666666667|\n",
      "|              Sweden|        null|              null|        17|56.11764705882353| 56.11764705882353|\n",
      "|             Germany|           2|              52.5|        81|54.75308641975309| 54.69879518072289|\n",
      "|              France|           3|47.666666666666664|        40|            61.75| 60.76744186046512|\n",
      "|No Affiliated Cou...|          36| 56.94444444444444|       199|64.52261306532664|63.361702127659576|\n",
      "+--------------------+------------+------------------+----------+-----------------+------------------+\n",
      "only showing top 5 rows\n",
      "\n"
     ]
    }
   ],
   "source": [
    "# after creating age column in table, we use pivoting\n",
    "\n",
    "laureates3_df = laureates2_df\n",
    "\n",
    "laureates3_df = laureates3_df\\\n",
    "    .groupBy(F.col('prize_affiliation_country')\\\n",
    "    .alias('country'))\\\n",
    "    .pivot('gender')\\\n",
    "    .agg(F.count('*').alias('count'), F.avg('age_at_prize_reception').alias('avg_age'))\n",
    "\n",
    "laureates_country_avg_age_df = laureates2_df\\\n",
    "    .groupBy(F.col('prize_affiliation_country')\\\n",
    "    .alias('country'))\\\n",
    "    .agg(F.avg('age_at_prize_reception').alias('country_avg_age'))\n",
    "\n",
    "# one row in country is null which should be replaced by 'No Affiliated Country'\n",
    "laureates3_df = laureates3_df.fillna(value='No Affiliated Country', subset=['country'])\n",
    "laureates_country_avg_age_df = laureates_country_avg_age_df.fillna(value='No Affiliated Country', subset=['country'])\n",
    "\n",
    "laureates3_df = laureates3_df.join(laureates_country_avg_age_df, 'country', 'inner')\n",
    "laureates3_df.show(5)"
   ]
  },
  {
   "cell_type": "code",
   "execution_count": 21,
   "id": "402d6cfd",
   "metadata": {},
   "outputs": [
    {
     "name": "stdout",
     "output_type": "stream",
     "text": [
      "+--------------------+------------+----------+----------+--------+--------------+------------+---------------+\n",
      "|             country|female_count|male_count|female_pct|male_pct|female_avg_age|male_avg_age|country_avg_age|\n",
      "+--------------------+------------+----------+----------+--------+--------------+------------+---------------+\n",
      "|              Russia|           0|         3|       0.0|   100.0|           0.0|        70.7|           70.7|\n",
      "|              Sweden|           0|        17|       0.0|   100.0|           0.0|        56.1|           56.1|\n",
      "|             Germany|           2|        81|      2.41|   97.59|          52.5|        54.8|           54.7|\n",
      "|              France|           3|        40|      6.98|   93.02|          47.7|        61.8|           60.8|\n",
      "|No Affiliated Cou...|          36|       199|     15.32|   84.68|          56.9|        64.5|           63.4|\n",
      "+--------------------+------------+----------+----------+--------+--------------+------------+---------------+\n",
      "only showing top 5 rows\n",
      "\n"
     ]
    }
   ],
   "source": [
    "# lets replace the null values by 0\n",
    "laureates4_df = laureates3_df.fillna(0)\n",
    "\n",
    "# round the values of avg age to 2 significant digits\n",
    "laureates4_df = laureates4_df\\\n",
    "    .withColumn('female_avg_age', F.round(F.col('female_avg_age'), 1))\\\n",
    "    .withColumn('male_avg_age', F.round(F.col('male_avg_age'), 1))\\\n",
    "    .withColumn('country_avg_age', F.round(F.col('country_avg_age'), 1))\n",
    "\n",
    "# calculate the male percentage and female percentage also\n",
    "laureates4_df = laureates4_df\\\n",
    "    .withColumn('female_pct', F.round(F.col('female_count')/(F.col('male_count') + F.col('female_count')) * 100, 2))\\\n",
    "    .withColumn('male_pct', F.round(F.col('male_count')/(F.col('male_count') + F.col('female_count')) * 100, 2))\n",
    "\n",
    "laureates4_df = laureates4_df.select('country', 'female_count', 'male_count', 'female_pct', 'male_pct', 'female_avg_age', 'male_avg_age', 'country_avg_age')\n",
    "laureates4_df.show(5)\n",
    "\n",
    "country_prize_gender_count_df = laureates4_df"
   ]
  },
  {
   "cell_type": "markdown",
   "id": "a94e44a0",
   "metadata": {},
   "source": [
    "### Qn. 3. List of laureates who won nobel prize in each category each year. If there are multiple laureates who won the prize, make an array."
   ]
  },
  {
   "cell_type": "code",
   "execution_count": 22,
   "id": "651cbf78",
   "metadata": {},
   "outputs": [
    {
     "name": "stdout",
     "output_type": "stream",
     "text": [
      "+----------+--------------------+---------+--------------------+--------------------+--------------------+--------------------+\n",
      "|prize_year|           chemistry|economics|          literature|            medicine|               peace|             physics|\n",
      "+----------+--------------------+---------+--------------------+--------------------+--------------------+--------------------+\n",
      "|      1901|[Jacobus H. van '...|       []|   [Sully Prudhomme]|  [Emil von Behring]|[Henry Dunant, Fr...|[Wilhelm Conrad R...|\n",
      "|      1902|      [Emil Fischer]|       []|   [Theodor Mommsen]|       [Ronald Ross]|[Élie Ducommun, A...|[Hendrik A. Loren...|\n",
      "|      1903|  [Svante Arrhenius]|       []|[Bjørnstjerne Bjø...|[Niels Ryberg Fin...|     [Randal Cremer]|[Henri Becquerel,...|\n",
      "|      1904|[Sir William Ramsay]|       []|[Frédéric Mistral...|       [Ivan Pavlov]|                  []|     [Lord Rayleigh]|\n",
      "|      1905|  [Adolf von Baeyer]|       []|[Henryk Sienkiewicz]|       [Robert Koch]|[Bertha von Suttner]|    [Philipp Lenard]|\n",
      "+----------+--------------------+---------+--------------------+--------------------+--------------------+--------------------+\n",
      "only showing top 5 rows\n",
      "\n"
     ]
    }
   ],
   "source": [
    "laureates_df = df\n",
    "\n",
    "# cast column prize_year as int\n",
    "laureates_df = laureates_df\\\n",
    "    .withColumn('prize_year', F.col('prize_year').cast('int'))\n",
    "\n",
    "# create laureates_df with concatenated columns\n",
    "laureates_df = laureates_df\\\n",
    "    .withColumn('fullname', F.concat(F.col('firstname'),F.lit(' '), F.col('surname')))\n",
    "\n",
    "# use collect list function to collect the list of names\n",
    "laureates_df = laureates_df\\\n",
    "    .groupBy('prize_year')\\\n",
    "    .pivot('prize_category')\\\n",
    "    .agg(F.collect_list(F.col('fullname')))\\\n",
    "    .orderBy('prize_year')\n",
    "\n",
    "laureates_df.show(5)\n",
    "\n",
    "year_category_laureates_df = laureates_df"
   ]
  },
  {
   "cell_type": "markdown",
   "id": "d63f1b34",
   "metadata": {},
   "source": [
    "## Export data to json"
   ]
  },
  {
   "cell_type": "code",
   "execution_count": 23,
   "id": "1fb4efd6",
   "metadata": {},
   "outputs": [
    {
     "name": "stdout",
     "output_type": "stream",
     "text": [
      "+--------------------+---------+---------+----------+--------+-----+-------+\n",
      "|             country|chemistry|economics|literature|medicine|peace|physics|\n",
      "+--------------------+---------+---------+----------+--------+-----+-------+\n",
      "|              Russia|        0|        0|         0|       1|    0|      2|\n",
      "|              Sweden|        5|        1|         0|       7|    0|      4|\n",
      "|             Germany|       41|        1|         0|      18|    0|     23|\n",
      "|              France|       11|        2|         0|      10|    1|     19|\n",
      "|No Affiliated Cou...|        2|        2|       119|       1|  136|      5|\n",
      "+--------------------+---------+---------+----------+--------+-----+-------+\n",
      "only showing top 5 rows\n",
      "\n"
     ]
    }
   ],
   "source": [
    "country_prize_category_count_df.show(5)"
   ]
  },
  {
   "cell_type": "code",
   "execution_count": 24,
   "id": "8f6cc720",
   "metadata": {},
   "outputs": [
    {
     "name": "stdout",
     "output_type": "stream",
     "text": [
      "+--------------------+------------+----------+----------+--------+--------------+------------+---------------+\n",
      "|             country|female_count|male_count|female_pct|male_pct|female_avg_age|male_avg_age|country_avg_age|\n",
      "+--------------------+------------+----------+----------+--------+--------------+------------+---------------+\n",
      "|              Russia|           0|         3|       0.0|   100.0|           0.0|        70.7|           70.7|\n",
      "|              Sweden|           0|        17|       0.0|   100.0|           0.0|        56.1|           56.1|\n",
      "|             Germany|           2|        81|      2.41|   97.59|          52.5|        54.8|           54.7|\n",
      "|              France|           3|        40|      6.98|   93.02|          47.7|        61.8|           60.8|\n",
      "|No Affiliated Cou...|          36|       199|     15.32|   84.68|          56.9|        64.5|           63.4|\n",
      "+--------------------+------------+----------+----------+--------+--------------+------------+---------------+\n",
      "only showing top 5 rows\n",
      "\n"
     ]
    }
   ],
   "source": [
    "country_prize_gender_count_df.show(5)"
   ]
  },
  {
   "cell_type": "code",
   "execution_count": 25,
   "id": "1593d4ab",
   "metadata": {},
   "outputs": [
    {
     "name": "stdout",
     "output_type": "stream",
     "text": [
      "+----------+--------------------+---------+--------------------+--------------------+--------------------+--------------------+\n",
      "|prize_year|           chemistry|economics|          literature|            medicine|               peace|             physics|\n",
      "+----------+--------------------+---------+--------------------+--------------------+--------------------+--------------------+\n",
      "|      1901|[Jacobus H. van '...|       []|   [Sully Prudhomme]|  [Emil von Behring]|[Henry Dunant, Fr...|[Wilhelm Conrad R...|\n",
      "|      1902|      [Emil Fischer]|       []|   [Theodor Mommsen]|       [Ronald Ross]|[Élie Ducommun, A...|[Hendrik A. Loren...|\n",
      "|      1903|  [Svante Arrhenius]|       []|[Bjørnstjerne Bjø...|[Niels Ryberg Fin...|     [Randal Cremer]|[Henri Becquerel,...|\n",
      "|      1904|[Sir William Ramsay]|       []|[Frédéric Mistral...|       [Ivan Pavlov]|                  []|     [Lord Rayleigh]|\n",
      "|      1905|  [Adolf von Baeyer]|       []|[Henryk Sienkiewicz]|       [Robert Koch]|[Bertha von Suttner]|    [Philipp Lenard]|\n",
      "+----------+--------------------+---------+--------------------+--------------------+--------------------+--------------------+\n",
      "only showing top 5 rows\n",
      "\n"
     ]
    }
   ],
   "source": [
    "year_category_laureates_df.show(5)"
   ]
  },
  {
   "cell_type": "code",
   "execution_count": 26,
   "id": "5ab027f4",
   "metadata": {},
   "outputs": [],
   "source": [
    "# write to json files\n",
    "# {‘split’, ‘records’, ‘index’, ‘columns’, ‘values’, ‘table’}.\n",
    "\n",
    "country_prize_category_count_df.toPandas().to_json('data/country_prize_category.json', orient='records') # orient 'records' is necessary for our data format\n",
    "country_prize_gender_count_df.toPandas().to_json('data/country_prize_gender.json', orient='records')\n",
    "year_category_laureates_df.toPandas().to_json('data/year_category_laureates.json', orient='records')"
   ]
  }
 ],
 "metadata": {
  "kernelspec": {
   "display_name": "kafka",
   "language": "python",
   "name": "kafka"
  },
  "language_info": {
   "codemirror_mode": {
    "name": "ipython",
    "version": 3
   },
   "file_extension": ".py",
   "mimetype": "text/x-python",
   "name": "python",
   "nbconvert_exporter": "python",
   "pygments_lexer": "ipython3",
   "version": "3.10.8"
  }
 },
 "nbformat": 4,
 "nbformat_minor": 5
}
